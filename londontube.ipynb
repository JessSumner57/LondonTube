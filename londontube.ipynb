{
 "cells": [
  {
   "cell_type": "code",
   "execution_count": 3,
   "id": "36d01a7d-4c21-44af-a1f9-36a1522e9bac",
   "metadata": {},
   "outputs": [],
   "source": [
    "import requests\n",
    "import json\n",
    "import folium\n",
    "\n",
    "def get_tube_incidents():\n",
    "    url = \"https://api.tfl.gov.uk/Line/Mode/tube/Status\"\n",
    "    response = requests.get(url)\n",
    "\n",
    "    if response.status_code == 200:\n",
    "        data = json.loads(response.text)\n",
    "        incidents = []\n",
    "        for item in data:\n",
    "            if \"lineStatuses\" in item and len(item[\"lineStatuses\"]) > 0:\n",
    "                if \"statusSeverityDescription\" in item[\"lineStatuses\"][0]:\n",
    "                    line_name = item[\"name\"]\n",
    "                    line_status = item[\"lineStatuses\"][0][\"statusSeverityDescription\"]\n",
    "                    incidents.append({\"line_name\": line_name, \"line_status\": line_status})\n",
    "        return incidents\n",
    "    else:\n",
    "        return None\n",
    "\n",
    "if __name__ == \"__main__\":\n",
    "    incidents = get_tube_incidents()\n",
    "    if incidents:\n",
    "        london_map = folium.Map(location=[51.5074, -0.1278], zoom_start=11)\n",
    "        for incident in incidents:\n",
    "            if incident[\"line_status\"] == \"Good Service\":\n",
    "                color = \"green\"\n",
    "            else:\n",
    "                color = \"red\"\n",
    "            folium.Marker(\n",
    "                location=[51.5074, -0.1278],\n",
    "                popup=f\"{incident['line_name']}: {incident['line_status']}\",\n",
    "                icon=folium.Icon(color=color)\n",
    "            ).add_to(london_map)\n",
    "        london_map.save(\"london_tube_map.html\")\n",
    "    else:\n",
    "        print(\"Could not retrieve live updates of incidents on the London tube network.\")\n"
   ]
  },
  {
   "cell_type": "code",
   "execution_count": null,
   "id": "3b6a1435-cf96-4ed0-9020-77df33505a3d",
   "metadata": {},
   "outputs": [],
   "source": []
  },
  {
   "cell_type": "code",
   "execution_count": null,
   "id": "5cd8d2b8-7a66-4bb5-a7fc-8f0e9305c04e",
   "metadata": {},
   "outputs": [],
   "source": []
  }
 ],
 "metadata": {
  "kernelspec": {
   "display_name": "Python 3 (ipykernel)",
   "language": "python",
   "name": "python3"
  },
  "language_info": {
   "codemirror_mode": {
    "name": "ipython",
    "version": 3
   },
   "file_extension": ".py",
   "mimetype": "text/x-python",
   "name": "python",
   "nbconvert_exporter": "python",
   "pygments_lexer": "ipython3",
   "version": "3.10.5"
  }
 },
 "nbformat": 4,
 "nbformat_minor": 5
}
