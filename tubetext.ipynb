{
 "cells": [
  {
   "cell_type": "code",
   "execution_count": 2,
   "id": "4cf74f00-562b-4d65-b3d4-181305199ecc",
   "metadata": {},
   "outputs": [
    {
     "name": "stdout",
     "output_type": "stream",
     "text": [
      "Live updates of incidents on the London tube network:\n",
      "Line name: Bakerloo\n",
      "Line status: Part Closure\n",
      "------------------------------\n",
      "Line name: Central\n",
      "Line status: Good Service\n",
      "------------------------------\n",
      "Line name: Circle\n",
      "Line status: Good Service\n",
      "------------------------------\n",
      "Line name: District\n",
      "Line status: Good Service\n",
      "------------------------------\n",
      "Line name: Hammersmith & City\n",
      "Line status: Good Service\n",
      "------------------------------\n",
      "Line name: Jubilee\n",
      "Line status: Minor Delays\n",
      "------------------------------\n",
      "Line name: Metropolitan\n",
      "Line status: Part Closure\n",
      "------------------------------\n",
      "Line name: Northern\n",
      "Line status: Good Service\n",
      "------------------------------\n",
      "Line name: Piccadilly\n",
      "Line status: Part Closure\n",
      "------------------------------\n",
      "Line name: Victoria\n",
      "Line status: Good Service\n",
      "------------------------------\n",
      "Line name: Waterloo & City\n",
      "Line status: Planned Closure\n",
      "------------------------------\n"
     ]
    }
   ],
   "source": [
    "import requests\n",
    "import json\n",
    "\n",
    "def get_tube_incidents():\n",
    "    url = \"https://api.tfl.gov.uk/Line/Mode/tube/Status\"\n",
    "    response = requests.get(url)\n",
    "\n",
    "    if response.status_code == 200:\n",
    "        data = json.loads(response.text)\n",
    "        incidents = []\n",
    "        for item in data:\n",
    "            if \"lineStatuses\" in item and len(item[\"lineStatuses\"]) > 0:\n",
    "                if \"statusSeverityDescription\" in item[\"lineStatuses\"][0]:\n",
    "                    line_name = item[\"name\"]\n",
    "                    line_status = item[\"lineStatuses\"][0][\"statusSeverityDescription\"]\n",
    "                    incidents.append({\"line_name\": line_name, \"line_status\": line_status})\n",
    "        return incidents\n",
    "    else:\n",
    "        return None\n",
    "\n",
    "if __name__ == \"__main__\":\n",
    "    incidents = get_tube_incidents()\n",
    "    if incidents:\n",
    "        print(\"Live updates of incidents on the London tube network:\")\n",
    "        for incident in incidents:\n",
    "            print(\"Line name:\", incident[\"line_name\"])\n",
    "            print(\"Line status:\", incident[\"line_status\"])\n",
    "            print(\"------------------------------\")\n",
    "    else:\n",
    "        print(\"Could not retrieve live updates of incidents on the London tube network.\")\n"
   ]
  },
  {
   "cell_type": "code",
   "execution_count": null,
   "id": "d69f3979-f34d-4ece-948e-276e3360681b",
   "metadata": {},
   "outputs": [],
   "source": []
  }
 ],
 "metadata": {
  "kernelspec": {
   "display_name": "Python 3 (ipykernel)",
   "language": "python",
   "name": "python3"
  },
  "language_info": {
   "codemirror_mode": {
    "name": "ipython",
    "version": 3
   },
   "file_extension": ".py",
   "mimetype": "text/x-python",
   "name": "python",
   "nbconvert_exporter": "python",
   "pygments_lexer": "ipython3",
   "version": "3.10.5"
  }
 },
 "nbformat": 4,
 "nbformat_minor": 5
}
